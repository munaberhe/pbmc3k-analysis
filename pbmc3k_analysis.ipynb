{
 "cells": [
  {
   "cell_type": "markdown",
   "id": "ab233800-540c-4cf2-b6e9-f42c61d0542f",
   "metadata": {},
   "source": [
    "# PBMC 3k Single-Cell RNA-Seq Analysis\n",
    "This notebook performs an end-to-end analysis of the 10x PBMC 3k dataset using Scanpy in Python. Steps include preprocessing, dimensionality reduction, clustering, annotation, and visualization.\n"
   ]
  },
  {
   "cell_type": "markdown",
   "id": "4b8cc986-6d33-4157-a1d2-67ec3a43f248",
   "metadata": {},
   "source": [
    "## Step 1: Setup and Load Dataset\n",
    "- Load Scanpy\n",
    "- Read the PBMC 3k dataset"
   ]
  },
  {
   "cell_type": "code",
   "execution_count": null,
   "id": "52ac381e-bca2-41a1-a070-22b9d8e71fca",
   "metadata": {},
   "outputs": [],
   "source": [
    "import scanpy as sc\n",
    "\n",
    "# Load the dataset\n",
    "adata = sc.read(\"../data/raw/pbmc3k.h5ad\")\n",
    "\n",
    "# Show basic info\n",
    "adata\n"
   ]
  },
  {
   "cell_type": "code",
   "execution_count": null,
   "id": "15b4e081-9877-4a2d-b8a7-144ffe059a61",
   "metadata": {},
   "outputs": [],
   "source": [
    "import os\n",
    "os.getcwd()\n"
   ]
  },
  {
   "cell_type": "markdown",
   "id": "fa69c460-b2fd-418a-8287-cbc074939f96",
   "metadata": {},
   "source": [
    "## Step 2: Preprocessing\n",
    "- Filter cells and genes\n",
    "- Normalize and log-transform\n",
    "- Identify highly variable genes\n",
    "- Scale and PCA\n"
   ]
  },
  {
   "cell_type": "code",
   "execution_count": null,
   "id": "d0a8920a-33f6-4b37-bdd8-88735f813aa0",
   "metadata": {},
   "outputs": [],
   "source": [
    "# Step 1: Basic filtering\n",
    "sc.pp.filter_cells(adata, min_genes=200)\n",
    "sc.pp.filter_genes(adata, min_cells=3)\n",
    "\n",
    "# Step 2: Calculate mitochondrial gene content\n",
    "adata.var['mt'] = adata.var_names.str.startswith('MT-')\n",
    "sc.pp.calculate_qc_metrics(adata, qc_vars=['mt'], percent_top=None, log1p=False, inplace=True)\n",
    "\n",
    "# Step 3: Filter out low-quality cells\n",
    "adata = adata[adata.obs.n_genes_by_counts < 2500, :]\n",
    "adata = adata[adata.obs.pct_counts_mt < 5, :]\n",
    "\n",
    "# Step 4: Normalize and log-transform\n",
    "sc.pp.normalize_total(adata, target_sum=1e4)\n",
    "sc.pp.log1p(adata)\n",
    "\n",
    "# Step 5: Identify highly variable genes\n",
    "sc.pp.highly_variable_genes(adata, min_mean=0.0125, max_mean=3, min_disp=0.5)\n",
    "adata = adata[:, adata.var.highly_variable]\n",
    "\n",
    "# Step 6: Scale and run PCA\n",
    "sc.pp.scale(adata, max_value=10)\n",
    "sc.tl.pca(adata, svd_solver='arpack')\n"
   ]
  },
  {
   "cell_type": "markdown",
   "id": "138595fe-b86b-41b2-a5f5-e5015510c556",
   "metadata": {},
   "source": [
    "## Step 3: Clustering and UMAP\n",
    "- Compute neighbors\n",
    "- Run UMAP\n",
    "- Leiden clustering"
   ]
  },
  {
   "cell_type": "code",
   "execution_count": null,
   "id": "80988b02-834e-49df-8944-38ba68c857c7",
   "metadata": {},
   "outputs": [],
   "source": [
    "# Step 7: Compute the neighborhood graph\n",
    "sc.pp.neighbors(adata, n_neighbors=10, n_pcs=40)\n",
    "\n",
    "# Step 8: Run UMAP\n",
    "sc.tl.umap(adata)\n",
    "\n",
    "# Step 9: Cluster the cells using the Leiden algorithm\n",
    "sc.tl.leiden(adata)\n",
    "\n",
    "# Step 10: Plot UMAP with clusters\n",
    "sc.pl.umap(adata, color=['leiden'])\n"
   ]
  },
  {
   "cell_type": "code",
   "execution_count": null,
   "id": "1421ad22-41a3-431b-8140-ab4398e8ace0",
   "metadata": {},
   "outputs": [],
   "source": [
    "sc.tl.leiden(adata)\n",
    "sc.pl.umap(adata, color=['leiden'])\n"
   ]
  },
  {
   "cell_type": "markdown",
   "id": "b687b01a-77d0-41a2-8421-68211e3f84b6",
   "metadata": {},
   "source": [
    "## Step 4: Annotate Cell Types\n",
    "- Map cluster IDs to biological cell types\n",
    "- Plot UMAP with annotations"
   ]
  },
  {
   "cell_type": "code",
   "execution_count": null,
   "id": "2d001bf2-6a2d-45df-b694-53aab2b9ce1d",
   "metadata": {},
   "outputs": [],
   "source": [
    "# Example mapping (you can refine based on your own markers)\n",
    "cluster_annotations = {\n",
    "    '0': 'CD14+ Monocytes',\n",
    "    '1': 'Naive CD4+ T cells',\n",
    "    '2': 'Memory CD4+ T cells',\n",
    "    '3': 'B cells',\n",
    "    '4': 'NK cells',\n",
    "    '5': 'CD8+ T cells',\n",
    "    '6': 'FCGR3A+ Monocytes',\n",
    "    '7': 'Dendritic cells',\n",
    "    '8': 'Platelets'\n",
    "}\n",
    "\n",
    "# Apply annotation\n",
    "adata.obs['cell_type'] = adata.obs['leiden'].map(cluster_annotations)\n",
    "\n",
    "# Plot UMAP with cell types\n",
    "sc.pl.umap(adata, color='cell_type', legend_loc='on data', title='Cell Type Annotation')\n"
   ]
  },
  {
   "cell_type": "code",
   "execution_count": null,
   "id": "1b23f0ee-e19f-461b-be3e-11eede9d0417",
   "metadata": {},
   "outputs": [],
   "source": [
    "# Rank genes for each cluster (Leiden)\n",
    "sc.tl.rank_genes_groups(adata, groupby='leiden', method='t-test')  # Or use 'wilcoxon'\n",
    "sc.pl.rank_genes_groups(adata, n_genes=20, sharey=False)\n"
   ]
  },
  {
   "cell_type": "markdown",
   "id": "e838e9b9-8cd6-49e3-ae52-7425c452c1ca",
   "metadata": {},
   "source": [
    "## Step 5: Marker Genes\n",
    "- Rank marker genes for each cluster\n",
    "- Plot heatmaps, violin plots, dot plots"
   ]
  },
  {
   "cell_type": "code",
   "execution_count": null,
   "id": "4a615ff7-45cd-42ff-b693-95ff6a74f9cb",
   "metadata": {},
   "outputs": [],
   "source": [
    "# Save the UMAP plot\n",
    "sc.pl.umap(adata, color='cell_type', save='_celltypes.png')\n",
    "\n",
    "# Save marker gene table\n",
    "import pandas as pd\n",
    "\n",
    "# Extract top genes for each cluster\n",
    "marker_table = sc.get.rank_genes_groups_df(adata, group=None)\n",
    "marker_table.to_csv(\"results/marker_genes_by_cluster.csv\", index=False)\n"
   ]
  },
  {
   "cell_type": "code",
   "execution_count": null,
   "id": "3964c165-884e-43a8-b584-07558e2dc1c5",
   "metadata": {},
   "outputs": [],
   "source": [
    "sc.pl.violin(adata, ['CD3D', 'MS4A1', 'GNLY', 'CD14'], groupby='cell_type', rotation=45)\n"
   ]
  },
  {
   "cell_type": "code",
   "execution_count": null,
   "id": "53c75bcb-f3bf-4191-bf15-56748d04641e",
   "metadata": {},
   "outputs": [],
   "source": [
    "adata.var_names[:20]\n"
   ]
  },
  {
   "cell_type": "code",
   "execution_count": null,
   "id": "e5a6a5bf-7b6d-49df-aae9-05d0d8ff876b",
   "metadata": {},
   "outputs": [],
   "source": [
    "sc.pl.violin(adata, ['TNFRSF4', 'TNFRSF25', 'TNFRSF1B'], groupby='cell_type', rotation=45)\n"
   ]
  },
  {
   "cell_type": "code",
   "execution_count": null,
   "id": "5827f3b5-3d38-49ec-bcd5-d47fa0567769",
   "metadata": {},
   "outputs": [],
   "source": [
    "sc.pl.dotplot(adata, ['TNFRSF4', 'TNFRSF25', 'TNFRSF1B'], groupby='cell_type')\n"
   ]
  },
  {
   "cell_type": "code",
   "execution_count": null,
   "id": "d4ed4b62-cff8-4007-8778-97fc302b6a98",
   "metadata": {},
   "outputs": [],
   "source": [
    "sc.pl.rank_genes_groups_heatmap(adata, n_genes=5, groupby='cell_type', show_gene_labels=True)\n"
   ]
  },
  {
   "cell_type": "code",
   "execution_count": null,
   "id": "25224909-caad-4096-a5ff-c338148084c3",
   "metadata": {},
   "outputs": [],
   "source": [
    "sc.pl.rank_genes_groups_heatmap(adata, n_genes=5, groupby='leiden', show_gene_labels=True)\n"
   ]
  },
  {
   "cell_type": "code",
   "execution_count": null,
   "id": "47bce1e5-d1c1-4c81-995d-c4d20e846457",
   "metadata": {},
   "outputs": [],
   "source": [
    "sc.tl.rank_genes_groups(adata, groupby='cell_type', method='t-test')\n"
   ]
  },
  {
   "cell_type": "markdown",
   "id": "d6a54921-8bf4-41d2-939f-0f8e0d39aa13",
   "metadata": {},
   "source": [
    "## Step 6: Save Outputs\n",
    "- Save `.h5ad` object\n",
    "- Save plots\n",
    "- Export marker gene tables"
   ]
  },
  {
   "cell_type": "code",
   "execution_count": null,
   "id": "4ad83526-89fa-4a5c-896c-2a917b23a411",
   "metadata": {},
   "outputs": [],
   "source": [
    "adata.write(\"results/pbmc3k_processed.h5ad\")\n"
   ]
  },
  {
   "cell_type": "code",
   "execution_count": null,
   "id": "28e964d2-8847-4503-acce-0d7bf5f08e21",
   "metadata": {},
   "outputs": [],
   "source": [
    "sc.pl.umap(adata, color=\"cell_type\", save=\"_umap_celltypes.png\")\n",
    "sc.pl.dotplot(adata, ['TNFRSF4', 'TNFRSF25'], groupby='cell_type', save=\"_dotplot.png\")\n",
    "sc.pl.violin(adata, ['TNFRSF1B'], groupby='cell_type', rotation=45, save=\"_violin.png\")\n"
   ]
  },
  {
   "cell_type": "code",
   "execution_count": null,
   "id": "fb5bf8fe-724a-46dd-8aad-edabea9d89ff",
   "metadata": {},
   "outputs": [],
   "source": [
    "import pandas as pd\n",
    "marker_table = sc.get.rank_genes_groups_df(adata, group=None)\n",
    "marker_table.to_csv(\"results/marker_genes_by_cluster.csv\", index=False)\n"
   ]
  },
  {
   "cell_type": "code",
   "execution_count": null,
   "id": "319740d2-5b42-4767-8c04-bbaa40a8a1d0",
   "metadata": {},
   "outputs": [],
   "source": []
  }
 ],
 "metadata": {
  "kernelspec": {
   "display_name": "Python 3 (ipykernel)",
   "language": "python",
   "name": "python3"
  },
  "language_info": {
   "codemirror_mode": {
    "name": "ipython",
    "version": 3
   },
   "file_extension": ".py",
   "mimetype": "text/x-python",
   "name": "python",
   "nbconvert_exporter": "python",
   "pygments_lexer": "ipython3",
   "version": "3.10.13"
  }
 },
 "nbformat": 4,
 "nbformat_minor": 5
}
